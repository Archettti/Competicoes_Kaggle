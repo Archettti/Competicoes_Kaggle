{
 "cells": [
  {
   "cell_type": "code",
   "execution_count": 4,
   "metadata": {
    "_cell_guid": "b1076dfc-b9ad-4769-8c92-a6c4dae69d19",
    "_uuid": "8f2839f25d086af736a60e9eeb907d3b93b6e0e5"
   },
   "outputs": [],
   "source": [
    "import numpy as np #linear algebra\n",
    "import pandas as pd #data processing, CSV file I/O (e.g. pd.read_csv)\n",
    "\n",
    "import matplotlib.pyplot as plt\n",
    "import seaborn as sns\n",
    "#%matplotlib inline\n",
    "\n",
    "#import plotly.express as px\n",
    "#import plotly.offline as py\n",
    "#import plotly.graph_objs as go\n",
    "\n",
    "# ML\n",
    "#from sklearn.model_selection import train_test_split\n",
    "from sklearn.linear_model import LogisticRegression\n",
    "from sklearn.ensemble import RandomForestClassifier\n",
    "from sklearn.tree import DecisionTreeClassifier\n",
    "from sklearn.neighbors import KNeighborsClassifier\n",
    "\n",
    "# Ignore warnings\n",
    "import warnings  \n",
    "warnings.filterwarnings('ignore')\n"
   ]
  },
  {
   "cell_type": "code",
   "execution_count": 1,
   "metadata": {},
   "outputs": [],
   "source": [
    "import os\n",
    "for dirname, _, filenames in os.walk('/kaggle/input'):\n",
    "    for filename in filenames:\n",
    "        print(os.path.join(dirname, filename))"
   ]
  },
  {
   "cell_type": "code",
   "execution_count": 5,
   "metadata": {
    "_cell_guid": "79c7e3d0-c299-4dcb-8224-4455121ee9b0",
    "_uuid": "d629ff2d2480ee46fbb7e2d37f6b5fab8052498a"
   },
   "outputs": [],
   "source": [
    "# Loading data\n",
    "train = pd.read_csv('train.csv')\n",
    "test = pd.read_csv('test.csv')\n",
    "sub = pd.read_csv('submission.csv')"
   ]
  },
  {
   "cell_type": "code",
   "execution_count": 6,
   "metadata": {},
   "outputs": [
    {
     "output_type": "execute_result",
     "data": {
      "text/plain": "          Id   Province/State  Country/Region      Lat     Long        Date  \\\n1811    2652              NaN          Brazil -14.2350 -51.9253  2020-03-09   \n17328  25579  Channel Islands  United Kingdom  49.3723  -2.3644  2020-01-25   \n11456  16887              NaN           Qatar  25.3548  51.1839  2020-03-15   \n16344  24115     South Dakota              US  44.2998 -99.4388  2020-02-18   \n12483  18424              NaN    South Africa -30.5595  22.9375  2020-01-31   \n12191  17982              NaN      Seychelles  -4.6796  55.4920  2020-02-23   \n13893  20494      Connecticut              US  41.5978 -72.7554  2020-02-24   \n16187  23868      Puerto Rico              US  18.2208 -66.5901  2020-03-21   \n16431  24232        Tennessee              US  35.7478 -86.6923  2020-03-13   \n17267  25488   Cayman Islands  United Kingdom  19.3133 -81.2546  2020-01-27   \n\n       ConfirmedCases  Fatalities  \n1811             25.0         0.0  \n17328             0.0         0.0  \n11456           401.0         0.0  \n16344             0.0         0.0  \n12483             0.0         0.0  \n12191             0.0         0.0  \n13893             0.0         0.0  \n16187            21.0         1.0  \n16431            26.0         0.0  \n17267             0.0         0.0  ",
      "text/html": "<div>\n<style scoped>\n    .dataframe tbody tr th:only-of-type {\n        vertical-align: middle;\n    }\n\n    .dataframe tbody tr th {\n        vertical-align: top;\n    }\n\n    .dataframe thead th {\n        text-align: right;\n    }\n</style>\n<table border=\"1\" class=\"dataframe\">\n  <thead>\n    <tr style=\"text-align: right;\">\n      <th></th>\n      <th>Id</th>\n      <th>Province/State</th>\n      <th>Country/Region</th>\n      <th>Lat</th>\n      <th>Long</th>\n      <th>Date</th>\n      <th>ConfirmedCases</th>\n      <th>Fatalities</th>\n    </tr>\n  </thead>\n  <tbody>\n    <tr>\n      <th>1811</th>\n      <td>2652</td>\n      <td>NaN</td>\n      <td>Brazil</td>\n      <td>-14.2350</td>\n      <td>-51.9253</td>\n      <td>2020-03-09</td>\n      <td>25.0</td>\n      <td>0.0</td>\n    </tr>\n    <tr>\n      <th>17328</th>\n      <td>25579</td>\n      <td>Channel Islands</td>\n      <td>United Kingdom</td>\n      <td>49.3723</td>\n      <td>-2.3644</td>\n      <td>2020-01-25</td>\n      <td>0.0</td>\n      <td>0.0</td>\n    </tr>\n    <tr>\n      <th>11456</th>\n      <td>16887</td>\n      <td>NaN</td>\n      <td>Qatar</td>\n      <td>25.3548</td>\n      <td>51.1839</td>\n      <td>2020-03-15</td>\n      <td>401.0</td>\n      <td>0.0</td>\n    </tr>\n    <tr>\n      <th>16344</th>\n      <td>24115</td>\n      <td>South Dakota</td>\n      <td>US</td>\n      <td>44.2998</td>\n      <td>-99.4388</td>\n      <td>2020-02-18</td>\n      <td>0.0</td>\n      <td>0.0</td>\n    </tr>\n    <tr>\n      <th>12483</th>\n      <td>18424</td>\n      <td>NaN</td>\n      <td>South Africa</td>\n      <td>-30.5595</td>\n      <td>22.9375</td>\n      <td>2020-01-31</td>\n      <td>0.0</td>\n      <td>0.0</td>\n    </tr>\n    <tr>\n      <th>12191</th>\n      <td>17982</td>\n      <td>NaN</td>\n      <td>Seychelles</td>\n      <td>-4.6796</td>\n      <td>55.4920</td>\n      <td>2020-02-23</td>\n      <td>0.0</td>\n      <td>0.0</td>\n    </tr>\n    <tr>\n      <th>13893</th>\n      <td>20494</td>\n      <td>Connecticut</td>\n      <td>US</td>\n      <td>41.5978</td>\n      <td>-72.7554</td>\n      <td>2020-02-24</td>\n      <td>0.0</td>\n      <td>0.0</td>\n    </tr>\n    <tr>\n      <th>16187</th>\n      <td>23868</td>\n      <td>Puerto Rico</td>\n      <td>US</td>\n      <td>18.2208</td>\n      <td>-66.5901</td>\n      <td>2020-03-21</td>\n      <td>21.0</td>\n      <td>1.0</td>\n    </tr>\n    <tr>\n      <th>16431</th>\n      <td>24232</td>\n      <td>Tennessee</td>\n      <td>US</td>\n      <td>35.7478</td>\n      <td>-86.6923</td>\n      <td>2020-03-13</td>\n      <td>26.0</td>\n      <td>0.0</td>\n    </tr>\n    <tr>\n      <th>17267</th>\n      <td>25488</td>\n      <td>Cayman Islands</td>\n      <td>United Kingdom</td>\n      <td>19.3133</td>\n      <td>-81.2546</td>\n      <td>2020-01-27</td>\n      <td>0.0</td>\n      <td>0.0</td>\n    </tr>\n  </tbody>\n</table>\n</div>"
     },
     "metadata": {},
     "execution_count": 6
    }
   ],
   "source": [
    "train.sample(10) # Labels = 'ConfirmedCases' and 'Fatalities'"
   ]
  },
  {
   "cell_type": "code",
   "execution_count": null,
   "metadata": {},
   "outputs": [],
   "source": [
    "print(train.shape) # All the columns\n",
    "print(test.shape) # Two columns less (labels)\n",
    "print(sub.shape) # Id and both labels "
   ]
  },
  {
   "cell_type": "code",
   "execution_count": null,
   "metadata": {},
   "outputs": [],
   "source": [
    "# Checking missing values\n",
    "train.isnull().sum()"
   ]
  },
  {
   "cell_type": "code",
   "execution_count": null,
   "metadata": {},
   "outputs": [],
   "source": [
    "# Exploring data\n",
    "grouped = train.groupby('Date')['Date', 'ConfirmedCases', 'Fatalities'].sum().reset_index()\n",
    "\n",
    "fig = px.line(grouped, x=\"Date\", y=\"ConfirmedCases\", \n",
    "              title=\"Confirmed Cases x Time\")\n",
    "fig.show()\n",
    "\n",
    "\n",
    "fig = px.line(grouped, x=\"Date\", y=\"Fatalities\", \n",
    "              title=\"Fatalities x Time\")\n",
    "fig.show()\n"
   ]
  },
  {
   "cell_type": "code",
   "execution_count": null,
   "metadata": {},
   "outputs": [],
   "source": [
    "# Remove columns\n",
    "train.drop(columns = ['Province/State'], inplace=True)\n",
    "test.drop(columns = ['Province/State'], inplace=True)"
   ]
  },
  {
   "cell_type": "code",
   "execution_count": null,
   "metadata": {},
   "outputs": [],
   "source": [
    "# Remove labels and ID\n",
    "X_train = train.drop([\"Fatalities\", \"ConfirmedCases\"], axis=1)\n",
    "Y_test = test.copy()"
   ]
  },
  {
   "cell_type": "code",
   "execution_count": null,
   "metadata": {},
   "outputs": [],
   "source": [
    "# Date column to datetime\n",
    "X_train['Date'] = pd.to_datetime(X_train['Date']) \n",
    "Y_test['Date'] = pd.to_datetime(Y_test['Date']) "
   ]
  },
  {
   "cell_type": "code",
   "execution_count": null,
   "metadata": {},
   "outputs": [],
   "source": [
    "# Set the index to the date\n",
    "X_train = X_train.set_index(['Date'])\n",
    "Y_test = Y_test.set_index(['Date'])"
   ]
  },
  {
   "cell_type": "code",
   "execution_count": null,
   "metadata": {},
   "outputs": [],
   "source": [
    "def create_time_features(df):\n",
    "\n",
    "    df['date'] = df.index\n",
    "    df['dayofweek'] = df['date'].dt.dayofweek\n",
    "    df['quarter'] = df['date'].dt.quarter\n",
    "    df['month'] = df['date'].dt.month\n",
    "    df['year'] = df['date'].dt.year\n",
    "    df['dayofyear'] = df['date'].dt.dayofyear\n",
    "    df['dayofmonth'] = df['date'].dt.day\n",
    "    df['weekofyear'] = df['date'].dt.weekofyear\n",
    "    \n",
    "    X = df[['dayofweek','quarter','month','year',\n",
    "           'dayofyear','dayofmonth','weekofyear']]\n",
    "    return X"
   ]
  },
  {
   "cell_type": "code",
   "execution_count": null,
   "metadata": {},
   "outputs": [],
   "source": [
    "create_time_features(X_train)\n",
    "X_train.drop(columns = ['date'], inplace=True)\n",
    "\n",
    "X_train"
   ]
  },
  {
   "cell_type": "code",
   "execution_count": null,
   "metadata": {},
   "outputs": [],
   "source": [
    "create_time_features(Y_test)\n",
    "Y_test.drop(columns = ['date'], inplace=True)\n",
    "\n",
    "Y_test"
   ]
  },
  {
   "cell_type": "code",
   "execution_count": null,
   "metadata": {},
   "outputs": [],
   "source": [
    "# Return index\n",
    "X_train = X_train.set_index(['Id'])\n",
    "Y_test = Y_test.set_index(['ForecastId'])"
   ]
  },
  {
   "cell_type": "code",
   "execution_count": null,
   "metadata": {},
   "outputs": [],
   "source": [
    "# Identifying data types \n",
    "display(X_train.dtypes)\n",
    "display(X_train.dtypes.value_counts())"
   ]
  },
  {
   "cell_type": "code",
   "execution_count": null,
   "metadata": {},
   "outputs": [],
   "source": [
    "# One hot encode to Country/Region - Train\n",
    "X_train = pd.concat([X_train,pd.get_dummies(X_train['Country/Region'], prefix='cr')],axis=1)\n",
    "X_train.drop(['Country/Region'],axis=1, inplace=True)\n",
    "\n",
    "# One hot encode to Country/Region - Test\n",
    "Y_test = pd.concat([Y_test,pd.get_dummies(Y_test['Country/Region'], prefix='cr')],axis=1)\n",
    "Y_test.drop(['Country/Region'],axis=1, inplace=True)\n",
    "\n",
    "X_train"
   ]
  },
  {
   "cell_type": "code",
   "execution_count": null,
   "metadata": {},
   "outputs": [],
   "source": [
    "X_train.head()"
   ]
  },
  {
   "cell_type": "code",
   "execution_count": null,
   "metadata": {},
   "outputs": [],
   "source": [
    "Y_test.head()"
   ]
  },
  {
   "cell_type": "code",
   "execution_count": null,
   "metadata": {},
   "outputs": [],
   "source": [
    "#Asign columns for training and testing\n",
    "y1_train = train[['ConfirmedCases']]\n",
    "y2_train = train[['Fatalities']]\n"
   ]
  },
  {
   "cell_type": "code",
   "execution_count": null,
   "metadata": {},
   "outputs": [],
   "source": [
    "# Apply model to ConfirmedCases\n",
    "random_forest = RandomForestClassifier(n_estimators=150, min_samples_leaf=3, max_features=0.5, n_jobs=-1)\n",
    "random_forest.fit(X_train, y1_train)\n",
    "\n",
    "random_forest.score(X_train, y1_train)\n",
    "acc_random_forest = round(random_forest.score(X_train, y1_train) * 100, 2)\n",
    "print('Accuracy model RandomForestClassifier:',acc_random_forest,\"\\n\")\n",
    "\n",
    "ConfirmedCases = random_forest.predict(Y_test)\n"
   ]
  },
  {
   "cell_type": "code",
   "execution_count": null,
   "metadata": {},
   "outputs": [],
   "source": [
    "# Apply model to Fatalities\n",
    "random_forest = RandomForestClassifier(n_estimators=150, min_samples_leaf=3, max_features=0.5, n_jobs=-1)\n",
    "random_forest.fit(X_train, y2_train)\n",
    "\n",
    "random_forest.score(X_train, y2_train)\n",
    "acc_random_forest = round(random_forest.score(X_train, y2_train) * 100, 2)\n",
    "print('Accuracy model RandomForestClassifier:',acc_random_forest,\"\\n\")\n",
    "\n",
    "Fatalities = random_forest.predict(Y_test)"
   ]
  },
  {
   "cell_type": "code",
   "execution_count": null,
   "metadata": {},
   "outputs": [],
   "source": [
    "# Apply model to ConfirmedCases\n",
    "decision_tree = DecisionTreeClassifier(criterion='entropy')\n",
    "decision_tree.fit(X_train, y1_train)\n",
    "\n",
    "decision_tree.score(X_train, y1_train)\n",
    "\n",
    "acc_decision_tree = round(decision_tree.score(X_train, y1_train) * 100, 2)\n",
    "print('Accuracy model DecisionTreeClassifier:',acc_decision_tree, \"\\n\")\n",
    "\n",
    "ConfirmedCases = random_forest.predict(Y_test)"
   ]
  },
  {
   "cell_type": "code",
   "execution_count": null,
   "metadata": {},
   "outputs": [],
   "source": [
    "# Apply model to Fatalities\n",
    "decision_tree = DecisionTreeClassifier(criterion='entropy')\n",
    "decision_tree.fit(X_train, y2_train)\n",
    "\n",
    "decision_tree.score(X_train, y2_train)\n",
    "\n",
    "acc_decision_tree = round(decision_tree.score(X_train, y2_train) * 100, 2)\n",
    "print('Accuracy model DecisionTreeClassifier:',acc_decision_tree, \"\\n\")\n",
    "\n",
    "Fatalities = random_forest.predict(Y_test)"
   ]
  },
  {
   "cell_type": "code",
   "execution_count": null,
   "metadata": {},
   "outputs": [],
   "source": [
    "# Sumission\n",
    "sub_df = pd.DataFrame()\n",
    "sub_df['ForecastId'] = sub['ForecastId']\n",
    "sub_df['ConfirmedCases'] = ConfirmedCases\n",
    "sub_df['Fatalities'] = Fatalities"
   ]
  },
  {
   "cell_type": "code",
   "execution_count": null,
   "metadata": {},
   "outputs": [],
   "source": [
    "sub_df.shape,sub.shape"
   ]
  },
  {
   "cell_type": "code",
   "execution_count": null,
   "metadata": {},
   "outputs": [],
   "source": [
    "sub_df.to_csv('submission.csv',index=False)"
   ]
  }
 ],
 "metadata": {
  "kernelspec": {
   "display_name": "Python 3",
   "language": "python",
   "name": "python3"
  },
  "language_info": {
   "codemirror_mode": {
    "name": "ipython",
    "version": 3
   },
   "file_extension": ".py",
   "mimetype": "text/x-python",
   "name": "python",
   "nbconvert_exporter": "python",
   "pygments_lexer": "ipython3",
   "version": "3.7.3-final"
  }
 },
 "nbformat": 4,
 "nbformat_minor": 4
}