{
 "cells": [
  {
   "cell_type": "code",
   "execution_count": null,
   "metadata": {
    "_cell_guid": "b1076dfc-b9ad-4769-8c92-a6c4dae69d19",
    "_uuid": "8f2839f25d086af736a60e9eeb907d3b93b6e0e5"
   },
   "outputs": [],
   "source": [
    "import numpy as np #linear algebra\n",
    "import pandas as pd #data processing, CSV file I/O (e.g. pd.read_csv)\n",
    "\n",
    "import matplotlib.pyplot as plt\n",
    "import seaborn as sns\n",
    "#%matplotlib inline\n",
    "\n",
    "#import plotly.express as px\n",
    "#import plotly.offline as py\n",
    "#import plotly.graph_objs as go\n",
    "\n",
    "# ML\n",
    "#from sklearn.model_selection import train_test_split\n",
    "from sklearn.linear_model import LogisticRegression\n",
    "from sklearn.ensemble import RandomForestClassifier\n",
    "from sklearn.tree import DecisionTreeClassifier\n",
    "from sklearn.neighbors import KNeighborsClassifier\n",
    "\n",
    "# Ignore warnings\n",
    "import warnings  \n",
    "warnings.filterwarnings('ignore')\n"
   ]
  },
  {
   "cell_type": "code",
   "execution_count": null,
   "metadata": {},
   "outputs": [],
   "source": [
    "import os\n",
    "for dirname, _, filenames in os.walk('/kaggle/input'):\n",
    "    for filename in filenames:\n",
    "        print(os.path.join(dirname, filename))"
   ]
  },
  {
   "cell_type": "code",
   "execution_count": null,
   "metadata": {
    "_cell_guid": "79c7e3d0-c299-4dcb-8224-4455121ee9b0",
    "_uuid": "d629ff2d2480ee46fbb7e2d37f6b5fab8052498a"
   },
   "outputs": [],
   "source": [
    "# Loading data\n",
    "train = pd.read_csv('train.csv')\n",
    "test = pd.read_csv('test.csv')\n",
    "sub = pd.read_csv('submission.csv')"
   ]
  },
  {
   "cell_type": "code",
   "execution_count": null,
   "metadata": {},
   "outputs": [],
   "source": [
    "train.sample(10) # Labels = 'ConfirmedCases' and 'Fatalities'"
   ]
  },
  {
   "cell_type": "code",
   "execution_count": null,
   "metadata": {},
   "outputs": [],
   "source": [
    "print(train.shape) # All the columns\n",
    "print(test.shape) # Two columns less (labels)\n",
    "print(sub.shape) # Id and both labels "
   ]
  },
  {
   "cell_type": "code",
   "execution_count": null,
   "metadata": {},
   "outputs": [],
   "source": [
    "# Checking missing values\n",
    "train.isnull().sum()"
   ]
  },
  {
   "cell_type": "code",
   "execution_count": null,
   "metadata": {},
   "outputs": [],
   "source": [
    "# Exploring data\n",
    "grouped = train.groupby('Date')['Date', 'ConfirmedCases', 'Fatalities'].sum().reset_index()\n",
    "\n",
    "fig = px.line(grouped, x=\"Date\", y=\"ConfirmedCases\", \n",
    "              title=\"Confirmed Cases x Time\")\n",
    "fig.show()\n",
    "\n",
    "\n",
    "fig = px.line(grouped, x=\"Date\", y=\"Fatalities\", \n",
    "              title=\"Fatalities x Time\")\n",
    "fig.show()\n"
   ]
  },
  {
   "cell_type": "code",
   "execution_count": null,
   "metadata": {},
   "outputs": [],
   "source": [
    "# Remove columns\n",
    "train.drop(columns = ['Province/State'], inplace=True)\n",
    "test.drop(columns = ['Province/State'], inplace=True)"
   ]
  },
  {
   "cell_type": "code",
   "execution_count": null,
   "metadata": {},
   "outputs": [],
   "source": [
    "# Remove labels and ID\n",
    "X_train = train.drop([\"Fatalities\", \"ConfirmedCases\"], axis=1)\n",
    "Y_test = test.copy()"
   ]
  },
  {
   "cell_type": "code",
   "execution_count": null,
   "metadata": {},
   "outputs": [],
   "source": [
    "# Date column to datetime\n",
    "X_train['Date'] = pd.to_datetime(X_train['Date']) \n",
    "Y_test['Date'] = pd.to_datetime(Y_test['Date']) "
   ]
  },
  {
   "cell_type": "code",
   "execution_count": null,
   "metadata": {},
   "outputs": [],
   "source": [
    "# Set the index to the date\n",
    "X_train = X_train.set_index(['Date'])\n",
    "Y_test = Y_test.set_index(['Date'])"
   ]
  },
  {
   "cell_type": "code",
   "execution_count": null,
   "metadata": {},
   "outputs": [],
   "source": [
    "def create_time_features(df):\n",
    "\n",
    "    df['date'] = df.index\n",
    "    df['dayofweek'] = df['date'].dt.dayofweek\n",
    "    df['quarter'] = df['date'].dt.quarter\n",
    "    df['month'] = df['date'].dt.month\n",
    "    df['year'] = df['date'].dt.year\n",
    "    df['dayofyear'] = df['date'].dt.dayofyear\n",
    "    df['dayofmonth'] = df['date'].dt.day\n",
    "    df['weekofyear'] = df['date'].dt.weekofyear\n",
    "    \n",
    "    X = df[['dayofweek','quarter','month','year',\n",
    "           'dayofyear','dayofmonth','weekofyear']]\n",
    "    return X"
   ]
  },
  {
   "cell_type": "code",
   "execution_count": null,
   "metadata": {},
   "outputs": [],
   "source": [
    "create_time_features(X_train)\n",
    "X_train.drop(columns = ['date'], inplace=True)\n",
    "\n",
    "X_train"
   ]
  },
  {
   "cell_type": "code",
   "execution_count": null,
   "metadata": {},
   "outputs": [],
   "source": [
    "create_time_features(Y_test)\n",
    "Y_test.drop(columns = ['date'], inplace=True)\n",
    "\n",
    "Y_test"
   ]
  },
  {
   "cell_type": "code",
   "execution_count": null,
   "metadata": {},
   "outputs": [],
   "source": [
    "# Return index\n",
    "X_train = X_train.set_index(['Id'])\n",
    "Y_test = Y_test.set_index(['ForecastId'])"
   ]
  },
  {
   "cell_type": "code",
   "execution_count": null,
   "metadata": {},
   "outputs": [],
   "source": [
    "# Identifying data types \n",
    "display(X_train.dtypes)\n",
    "display(X_train.dtypes.value_counts())"
   ]
  },
  {
   "cell_type": "code",
   "execution_count": null,
   "metadata": {},
   "outputs": [],
   "source": [
    "# One hot encode to Country/Region - Train\n",
    "X_train = pd.concat([X_train,pd.get_dummies(X_train['Country/Region'], prefix='cr')],axis=1)\n",
    "X_train.drop(['Country/Region'],axis=1, inplace=True)\n",
    "\n",
    "# One hot encode to Country/Region - Test\n",
    "Y_test = pd.concat([Y_test,pd.get_dummies(Y_test['Country/Region'], prefix='cr')],axis=1)\n",
    "Y_test.drop(['Country/Region'],axis=1, inplace=True)\n",
    "\n",
    "X_train"
   ]
  },
  {
   "cell_type": "code",
   "execution_count": null,
   "metadata": {},
   "outputs": [],
   "source": [
    "X_train.head()"
   ]
  },
  {
   "cell_type": "code",
   "execution_count": null,
   "metadata": {},
   "outputs": [],
   "source": [
    "Y_test.head()"
   ]
  },
  {
   "cell_type": "code",
   "execution_count": null,
   "metadata": {},
   "outputs": [],
   "source": [
    "#Asign columns for training and testing\n",
    "y1_train = train[['ConfirmedCases']]\n",
    "y2_train = train[['Fatalities']]\n"
   ]
  },
  {
   "cell_type": "code",
   "execution_count": null,
   "metadata": {},
   "outputs": [],
   "source": [
    "# Apply model to ConfirmedCases\n",
    "random_forest = RandomForestClassifier(n_estimators=150, min_samples_leaf=3, max_features=0.5, n_jobs=-1)\n",
    "random_forest.fit(X_train, y1_train)\n",
    "\n",
    "random_forest.score(X_train, y1_train)\n",
    "acc_random_forest = round(random_forest.score(X_train, y1_train) * 100, 2)\n",
    "print('Accuracy model RandomForestClassifier:',acc_random_forest,\"\\n\")\n",
    "\n",
    "ConfirmedCases = random_forest.predict(Y_test)\n"
   ]
  },
  {
   "cell_type": "code",
   "execution_count": null,
   "metadata": {},
   "outputs": [],
   "source": [
    "# Apply model to Fatalities\n",
    "random_forest = RandomForestClassifier(n_estimators=150, min_samples_leaf=3, max_features=0.5, n_jobs=-1)\n",
    "random_forest.fit(X_train, y2_train)\n",
    "\n",
    "random_forest.score(X_train, y2_train)\n",
    "acc_random_forest = round(random_forest.score(X_train, y2_train) * 100, 2)\n",
    "print('Accuracy model RandomForestClassifier:',acc_random_forest,\"\\n\")\n",
    "\n",
    "Fatalities = random_forest.predict(Y_test)"
   ]
  },
  {
   "cell_type": "code",
   "execution_count": null,
   "metadata": {},
   "outputs": [],
   "source": [
    "# Apply model to ConfirmedCases\n",
    "decision_tree = DecisionTreeClassifier(criterion='entropy')\n",
    "decision_tree.fit(X_train, y1_train)\n",
    "\n",
    "decision_tree.score(X_train, y1_train)\n",
    "\n",
    "acc_decision_tree = round(decision_tree.score(X_train, y1_train) * 100, 2)\n",
    "print('Accuracy model DecisionTreeClassifier:',acc_decision_tree, \"\\n\")\n",
    "\n",
    "ConfirmedCases = random_forest.predict(Y_test)"
   ]
  },
  {
   "cell_type": "code",
   "execution_count": null,
   "metadata": {},
   "outputs": [],
   "source": [
    "# Apply model to Fatalities\n",
    "decision_tree = DecisionTreeClassifier(criterion='entropy')\n",
    "decision_tree.fit(X_train, y2_train)\n",
    "\n",
    "decision_tree.score(X_train, y2_train)\n",
    "\n",
    "acc_decision_tree = round(decision_tree.score(X_train, y2_train) * 100, 2)\n",
    "print('Accuracy model DecisionTreeClassifier:',acc_decision_tree, \"\\n\")\n",
    "\n",
    "Fatalities = random_forest.predict(Y_test)"
   ]
  },
  {
   "cell_type": "code",
   "execution_count": null,
   "metadata": {},
   "outputs": [],
   "source": [
    "# Sumission\n",
    "sub_df = pd.DataFrame()\n",
    "sub_df['ForecastId'] = sub['ForecastId']\n",
    "sub_df['ConfirmedCases'] = ConfirmedCases\n",
    "sub_df['Fatalities'] = Fatalities"
   ]
  },
  {
   "cell_type": "code",
   "execution_count": null,
   "metadata": {},
   "outputs": [],
   "source": [
    "sub_df.shape,sub.shape"
   ]
  },
  {
   "cell_type": "code",
   "execution_count": null,
   "metadata": {},
   "outputs": [],
   "source": [
    "sub_df.to_csv('submission.csv',index=False)"
   ]
  }
 ],
 "metadata": {
  "kernelspec": {
   "display_name": "Python 3",
   "language": "python",
   "name": "python3"
  },
  "language_info": {
   "codemirror_mode": {
    "name": "ipython",
    "version": 3
   },
   "file_extension": ".py",
   "mimetype": "text/x-python",
   "name": "python",
   "nbconvert_exporter": "python",
   "pygments_lexer": "ipython3",
   "version": "3.7.3-final"
  }
 },
 "nbformat": 4,
 "nbformat_minor": 4
}